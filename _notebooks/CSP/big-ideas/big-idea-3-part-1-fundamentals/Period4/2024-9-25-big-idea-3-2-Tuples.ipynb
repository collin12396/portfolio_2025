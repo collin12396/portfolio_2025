{
 "cells": [
  {
   "cell_type": "markdown",
   "metadata": {
    "vscode": {
     "languageId": "raw"
    }
   },
   "source": [
    "---\n",
    "toc: false\n",
    "comments: true\n",
    "layout: post\n",
    "title: TUPLETS\n",
    "description: Student led teaching on Iteration. Learn how to do loops with Java and Python.\n",
    "permalink: /csp/big-idea/p4/3.2_tuple\n",
    "categories: [CSP Big Ideas]\n",
    "author: Ian, Collin, Aarush, Thomas\n",
    "menu: nav/csp_units/csp_unit3_p4_fundamentals.html\n",
    "---"
   ]
  },
  {
   "cell_type": "markdown",
   "metadata": {},
   "source": []
  },
  {
   "cell_type": "markdown",
   "metadata": {},
   "source": [
    "# Tuple in Python\n",
    "\n",
    "A **tuple** in Python is an **immutable** ordered collection of items. Once a tuple is created, you cannot modify, add, or remove elements from it.\n",
    "\n",
    "## Key characteristics of tuples:\n",
    "- **Ordered**: The order of elements in a tuple is maintained.\n",
    "- **Immutable**: Once defined, the elements of a tuple cannot be changed.\n",
    "- **Heterogeneous**: Tuples can store elements of different data types (integers, strings, etc.).\n",
    "- **Indexed**: Elements can be accessed using an index, with indexing starting at 0.\n",
    "- **Parentheses**: Tuples are typically enclosed in parentheses `()`.\n",
    "\n",
    "## Syntax:\n",
    "```python\n",
    "my_tuple = (element1, element2, element3)\n"
   ]
  },
  {
   "cell_type": "markdown",
   "metadata": {},
   "source": [
    "person = (\"Alice\", 30, \"Engineer\")\n",
    "\n",
    "# Access items by index\n",
    "print(person[0])  # Alice\n",
    "print(person[1])  # 30\n",
    "\n",
    "# Unpack the tuple into variables\n",
    "name, age, job = person\n",
    "print(name)  # Alice\n",
    "print(job)   # Engineer\n"
   ]
  },
  {
   "cell_type": "markdown",
   "metadata": {},
   "source": []
  },
  {
   "cell_type": "markdown",
   "metadata": {},
   "source": [
    "# A simple contact book using tuples\n",
    "\n",
    "# Function to add a contact\n",
    "def add_contact(contact_book, name, phone, email):\n",
    "    contact = (name, phone, email)\n",
    "    contact_book.append(contact)\n",
    "\n",
    "# Function to display contacts\n",
    "def display_contacts(contact_book):\n",
    "    for index, contact in enumerate(contact_book):\n",
    "        name, phone, email = contact\n",
    "        print(f\"{index + 1}. Name: {name}, Phone: {phone}, Email: {email}\")\n",
    "\n",
    "# Initialize an empty contact book\n",
    "contact_book = []\n",
    "\n",
    "# Add some contacts\n",
    "add_contact(contact_book, \"Alice\", \"123-456-7890\", \"alice@example.com\")\n",
    "add_contact(contact_book, \"Bob\", \"987-654-3210\", \"bob@example.com\")\n",
    "add_contact(contact_book, \"Charlie\", \"555-555-5555\", \"charlie@example.com\")\n",
    "\n",
    "# Display all contacts\n",
    "print(\"Contact Book:\")\n",
    "display_contacts(contact_book)\n"
   ]
  }
 ],
 "metadata": {
  "kernelspec": {
   "display_name": "venv",
   "language": "python",
   "name": "python3"
  },
  "language_info": {
   "name": "python",
   "version": "3.12.5"
  }
 },
 "nbformat": 4,
 "nbformat_minor": 2
}
