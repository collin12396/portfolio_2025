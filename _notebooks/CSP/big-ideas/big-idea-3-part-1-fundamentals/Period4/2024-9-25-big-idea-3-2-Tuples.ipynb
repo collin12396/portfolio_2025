{
 "cells": [
  {
   "cell_type": "markdown",
   "metadata": {
    "vscode": {
     "languageId": "raw"
    }
   },
   "source": [
    "---\n",
    "toc: false\n",
    "comments: true\n",
    "layout: post\n",
    "title: TUPLETS\n",
    "description: Student led teaching on Iteration. Learn how to do loops with Java and Python.\n",
    "permalink: /csp/big-idea/p4/3.2_tuple\n",
    "categories: [CSP Big Ideas]\n",
    "author: Ian, Collin, Aarush, Thomas\n",
    "menu: nav/csp_units/csp_unit3_p4_fundamentals.html\n",
    "---"
   ]
  },
  {
   "cell_type": "markdown",
   "metadata": {},
   "source": []
  },
  {
   "cell_type": "markdown",
   "metadata": {},
   "source": [
    "# Tuples in Python\n",
    "\n",
    "# Definition\n",
    "# A tuple is an ordered, immutable collection of elements.\n",
    "# Tuples are similar to lists, but unlike lists, they cannot be changed once defined.\n",
    "# Tuples are created using parentheses ().\n",
    "\n",
    "# Example of a tuple\n",
    "coordinates = (10.5, 12.7)\n",
    "\n",
    "# Accessing elements in a tuple by index\n",
    "x = coordinates[0]  # First element (index 0)\n",
    "y = coordinates[1]  # Second element (index 1)\n",
    "\n",
    "# Output\n",
    "print(\"Tuple Example:\")\n",
    "print(f\"X coordinate: {x}\")  # Output: X coordinate: 10.5\n",
    "print(f\"Y coordinate: {y}\")  # Output: Y coordinate: 12.7\n",
    "\n",
    "# Explanation:\n",
    "# In this example, we defined a tuple `coordinates` with two elements, 10.5 and 12.7.\n",
    "# Tuples use zero-based indexing, so `coordinates[0]` accesses the first element (10.5),\n",
    "# and `coordinates[1]` accesses the second element (12.7).\n"
   ]
  },
  {
   "cell_type": "markdown",
   "metadata": {},
   "source": [
    "# Hack: Tuple Unpacking\n",
    "# A useful feature with tuples is unpacking, which allows you to assign the tuple's elements\n",
    "# directly to variables in a single line of code.\n",
    "\n",
    "coordinates = (10.5, 12.7)\n",
    "\n",
    "x, y = coordinates  # Unpacking the tuple\n",
    "\n",
    "# Output\n",
    "print(\"\\nTuple Unpacking Hack:\")\n",
    "print(f\"X: {x}, Y: {y}\")  # Output: X: 10.5, Y: 12.7\n",
    "\n",
    "# Hack Explanation:\n",
    "# The unpacking technique simplifies the process of extracting values from a tuple.\n",
    "# In the line `x, y = coordinates`, the first element (10.5) is assigned to `x`\n",
    "# and the second element (12.7) is assigned to `y`. This can save time and make your code cleaner.\n"
   ]
  }
 ],
 "metadata": {
  "kernelspec": {
   "display_name": "venv",
   "language": "python",
   "name": "python3"
  },
  "language_info": {
   "name": "python",
   "version": "3.12.5"
  }
 },
 "nbformat": 4,
 "nbformat_minor": 2
}
